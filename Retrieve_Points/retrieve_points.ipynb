{
 "cells": [
  {
   "cell_type": "markdown",
   "source": [
    "# Detect Clusters of Vegetation Areas\n",
    "This notebook retrieves the centroids, using center of gravity, and the cluster points of all vegetation areas with a NDVI > 0.9"
   ],
   "metadata": {
    "collapsed": false,
    "pycharm": {
     "name": "#%% md\n"
    }
   }
  },
  {
   "cell_type": "code",
   "execution_count": 3,
   "outputs": [],
   "source": [
    "# Import necessary libraries\n",
    "import pickle\n",
    "import requests\n",
    "import cv2\n",
    "import pandas as pd\n",
    "import rasterio\n",
    "import numpy as np\n",
    "import subprocess"
   ],
   "metadata": {
    "collapsed": false,
    "pycharm": {
     "name": "#%%\n"
    }
   }
  },
  {
   "cell_type": "code",
   "execution_count": null,
   "outputs": [],
   "source": [
    "## Parameters"
   ],
   "metadata": {
    "collapsed": false,
    "pycharm": {
     "name": "#%%\n"
    }
   }
  },
  {
   "cell_type": "code",
   "execution_count": 4,
   "outputs": [],
   "source": [
    "# Retrieve an image using rasdaman\n",
    "service_endpoint = \"https://ows.rasdaman.org/rasdaman/ows\"\n",
    "# Parameters\n",
    "threshold = 0.9\n",
    "output_format = \"image/tiff\"\n",
    "output_file = \"query_result.tiff\""
   ],
   "metadata": {
    "collapsed": false,
    "pycharm": {
     "name": "#%%\n"
    }
   }
  },
  {
   "cell_type": "code",
   "execution_count": null,
   "outputs": [],
   "source": [],
   "metadata": {
    "collapsed": false,
    "pycharm": {
     "name": "#%%\n"
    }
   }
  }
 ],
 "metadata": {
  "kernelspec": {
   "display_name": "Python 3",
   "language": "python",
   "name": "python3"
  },
  "language_info": {
   "codemirror_mode": {
    "name": "ipython",
    "version": 2
   },
   "file_extension": ".py",
   "mimetype": "text/x-python",
   "name": "python",
   "nbconvert_exporter": "python",
   "pygments_lexer": "ipython2",
   "version": "2.7.6"
  }
 },
 "nbformat": 4,
 "nbformat_minor": 0
}